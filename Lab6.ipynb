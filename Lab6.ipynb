{
 "cells": [
  {
   "cell_type": "code",
   "execution_count": null,
   "id": "ab77aaaf-2b78-47c6-bd40-3523a3fbe8f6",
   "metadata": {},
   "outputs": [],
   "source": [
    "name = input(\"Please enter your name: \")"
   ]
  },
  {
   "cell_type": "code",
   "execution_count": null,
   "id": "e03adc76-4171-4fdc-982e-6c260e44b94c",
   "metadata": {},
   "outputs": [],
   "source": [
    "color = input(\"Please enter your favorite color: \")"
   ]
  },
  {
   "cell_type": "code",
   "execution_count": null,
   "id": "6a4d8623-8d2b-423f-8a2b-aa85a21b9829",
   "metadata": {},
   "outputs": [],
   "source": [
    "print(\"Your name is \" + name + \".\\nYour favorite color is \" + color + \".\")"
   ]
  }
 ],
 "metadata": {
  "kernelspec": {
   "display_name": "Python 3 (ipykernel)",
   "language": "python",
   "name": "python3"
  },
  "language_info": {
   "codemirror_mode": {
    "name": "ipython",
    "version": 3
   },
   "file_extension": ".py",
   "mimetype": "text/x-python",
   "name": "python",
   "nbconvert_exporter": "python",
   "pygments_lexer": "ipython3",
   "version": "3.12.4"
  }
 },
 "nbformat": 4,
 "nbformat_minor": 5
}
